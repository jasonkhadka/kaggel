{
 "cells": [
  {
   "cell_type": "markdown",
   "metadata": {},
   "source": [
    "# This notebook trains Essemble CNN to recognize the digits in MNIST. The data is from Kaggle [Digit-recognizer competition](https://www.kaggle.com/c/digit-recognizer). Please past the `train.csv` and `test.csv` on `/kaggle/input/digit-recognizer/` folder to run this notebook. "
   ]
  },
  {
   "cell_type": "code",
   "execution_count": 1,
   "metadata": {
    "_cell_guid": "79c7e3d0-c299-4dcb-8224-4455121ee9b0",
    "_uuid": "d629ff2d2480ee46fbb7e2d37f6b5fab8052498a",
    "execution": {
     "iopub.execute_input": "2020-12-29T12:35:01.654509Z",
     "iopub.status.busy": "2020-12-29T12:35:01.653620Z",
     "iopub.status.idle": "2020-12-29T12:35:04.828108Z",
     "shell.execute_reply": "2020-12-29T12:35:04.828699Z"
    },
    "papermill": {
     "duration": 3.204345,
     "end_time": "2020-12-29T12:35:04.828895",
     "exception": false,
     "start_time": "2020-12-29T12:35:01.624550",
     "status": "completed"
    },
    "tags": []
   },
   "outputs": [],
   "source": [
    "import torch\n",
    "import torchvision\n",
    "\n",
    "\n",
    "import pandas as pd\n",
    "import matplotlib.pyplot as plt\n",
    "import numpy as np\n",
    "\n",
    "from sklearn.model_selection import train_test_split\n",
    "\n",
    "import copy\n",
    "import time"
   ]
  },
  {
   "cell_type": "code",
   "execution_count": 2,
   "metadata": {
    "execution": {
     "iopub.execute_input": "2020-12-29T12:35:04.900825Z",
     "iopub.status.busy": "2020-12-29T12:35:04.899928Z",
     "iopub.status.idle": "2020-12-29T12:35:04.912046Z",
     "shell.execute_reply": "2020-12-29T12:35:04.912922Z"
    },
    "papermill": {
     "duration": 0.049877,
     "end_time": "2020-12-29T12:35:04.913164",
     "exception": false,
     "start_time": "2020-12-29T12:35:04.863287",
     "status": "completed"
    },
    "tags": []
   },
   "outputs": [
    {
     "data": {
      "text/plain": [
       "True"
      ]
     },
     "execution_count": 2,
     "metadata": {},
     "output_type": "execute_result"
    }
   ],
   "source": [
    "torch.backends.cudnn.enabled"
   ]
  },
  {
   "cell_type": "code",
   "execution_count": 3,
   "metadata": {
    "execution": {
     "iopub.execute_input": "2020-12-29T12:35:05.476204Z",
     "iopub.status.busy": "2020-12-29T12:35:05.475373Z",
     "iopub.status.idle": "2020-12-29T12:35:05.488494Z",
     "shell.execute_reply": "2020-12-29T12:35:05.487593Z"
    },
    "papermill": {
     "duration": 0.535323,
     "end_time": "2020-12-29T12:35:05.488685",
     "exception": false,
     "start_time": "2020-12-29T12:35:04.953362",
     "status": "completed"
    },
    "tags": []
   },
   "outputs": [
    {
     "name": "stdout",
     "output_type": "stream",
     "text": [
      "cuda\n"
     ]
    }
   ],
   "source": [
    "device = torch.device(\"cuda\" if torch.cuda.is_available() else \"cpu\")\n",
    "print(device)"
   ]
  },
  {
   "cell_type": "markdown",
   "metadata": {
    "papermill": {
     "duration": 0.020583,
     "end_time": "2020-12-29T12:35:05.536024",
     "exception": false,
     "start_time": "2020-12-29T12:35:05.515441",
     "status": "completed"
    },
    "tags": []
   },
   "source": [
    "# Configs"
   ]
  },
  {
   "cell_type": "code",
   "execution_count": 4,
   "metadata": {
    "execution": {
     "iopub.execute_input": "2020-12-29T12:35:05.583793Z",
     "iopub.status.busy": "2020-12-29T12:35:05.582591Z",
     "iopub.status.idle": "2020-12-29T12:35:05.588554Z",
     "shell.execute_reply": "2020-12-29T12:35:05.587880Z"
    },
    "papermill": {
     "duration": 0.031995,
     "end_time": "2020-12-29T12:35:05.588675",
     "exception": false,
     "start_time": "2020-12-29T12:35:05.556680",
     "status": "completed"
    },
    "tags": []
   },
   "outputs": [
    {
     "data": {
      "text/plain": [
       "['src', 'lib', 'input', 'working']"
      ]
     },
     "execution_count": 4,
     "metadata": {},
     "output_type": "execute_result"
    }
   ],
   "source": [
    "import os\n",
    "os.listdir(\"/kaggle/\")"
   ]
  },
  {
   "cell_type": "code",
   "execution_count": 5,
   "metadata": {
    "execution": {
     "iopub.execute_input": "2020-12-29T12:35:05.640227Z",
     "iopub.status.busy": "2020-12-29T12:35:05.639280Z",
     "iopub.status.idle": "2020-12-29T12:35:05.645685Z",
     "shell.execute_reply": "2020-12-29T12:35:05.644998Z"
    },
    "papermill": {
     "duration": 0.0353,
     "end_time": "2020-12-29T12:35:05.645817",
     "exception": false,
     "start_time": "2020-12-29T12:35:05.610517",
     "status": "completed"
    },
    "tags": []
   },
   "outputs": [],
   "source": [
    "Num_CNN = 12\n",
    "\n",
    "n_epochs = 25\n",
    "batch_size_train = 64\n",
    "batch_size_test = 1000\n",
    "learning_rate = 0.01\n",
    "momentum = 0.5\n",
    "log_interval = 100\n",
    "\n",
    "random_seed = 121\n",
    "torch.manual_seed(random_seed)\n",
    "\n",
    "kaggle_input_data = \"/kaggle/input/digit-recognizer/train.csv\"\n",
    "kaggle_input_validation = \"/kaggle/input/digit-recognizer/test.csv\"\n",
    "\n",
    "kaggle_model_path = \"/kaggle/working/model_id_%d.pth\"\n",
    "kaggle_optimizer_path = \"/kaggle/working/optimizer_id_%d.pth\"\n",
    "prediction_path = \"/kaggle/working/predictions_essemble.csv\""
   ]
  },
  {
   "cell_type": "markdown",
   "metadata": {
    "papermill": {
     "duration": 0.022067,
     "end_time": "2020-12-29T12:35:05.689327",
     "exception": false,
     "start_time": "2020-12-29T12:35:05.667260",
     "status": "completed"
    },
    "tags": []
   },
   "source": [
    "# Dataset"
   ]
  },
  {
   "cell_type": "code",
   "execution_count": 6,
   "metadata": {
    "execution": {
     "iopub.execute_input": "2020-12-29T12:35:05.743426Z",
     "iopub.status.busy": "2020-12-29T12:35:05.742291Z",
     "iopub.status.idle": "2020-12-29T12:35:05.745173Z",
     "shell.execute_reply": "2020-12-29T12:35:05.745680Z"
    },
    "papermill": {
     "duration": 0.034748,
     "end_time": "2020-12-29T12:35:05.745827",
     "exception": false,
     "start_time": "2020-12-29T12:35:05.711079",
     "status": "completed"
    },
    "tags": []
   },
   "outputs": [],
   "source": [
    "class Dataset(torch.utils.data.Dataset):\n",
    "    \n",
    "    def __init__(self, dataframe):\n",
    "        # initisalization\n",
    "        self.labels = dataframe[\"label\"].to_numpy()\n",
    "        self.dataframe = dataframe.loc[:,dataframe.columns != \"label\"]\n",
    "    \n",
    "    def __len__(self):\n",
    "        return self.dataframe.shape[0]\n",
    "    \n",
    "    def __getitem__(self, index):\n",
    "        # generate one sample of data - reshaping array to 28x28\n",
    "        X = torch.from_numpy(self.dataframe.iloc[index].values.reshape(1,28,28)).float()\n",
    "        y = self.labels[index]\n",
    "        \n",
    "        return X,y"
   ]
  },
  {
   "cell_type": "code",
   "execution_count": 7,
   "metadata": {
    "execution": {
     "iopub.execute_input": "2020-12-29T12:35:05.806404Z",
     "iopub.status.busy": "2020-12-29T12:35:05.805655Z",
     "iopub.status.idle": "2020-12-29T12:35:12.962064Z",
     "shell.execute_reply": "2020-12-29T12:35:12.961370Z"
    },
    "papermill": {
     "duration": 7.194794,
     "end_time": "2020-12-29T12:35:12.962242",
     "exception": false,
     "start_time": "2020-12-29T12:35:05.767448",
     "status": "completed"
    },
    "tags": []
   },
   "outputs": [],
   "source": [
    "df_input = pd.read_csv(kaggle_input_data)\n",
    "df_validation = pd.read_csv(kaggle_input_validation)\n",
    "\n",
    "df_train, df_test = train_test_split(df_input, test_size  = 0.01)\n",
    "\n",
    "# training\n",
    "training_set = Dataset(df_train)\n",
    "training_generator = torch.utils.data.DataLoader(training_set, batch_size = batch_size_train,\n",
    "                                                shuffle = True)\n",
    "\n",
    "# test\n",
    "test_set = Dataset(df_test)\n",
    "test_generator = torch.utils.data.DataLoader(test_set, batch_size = batch_size_test,\n",
    "                                                shuffle = True)\n",
    "\n",
    "# validation \n",
    "kaggle_validation_set = torch.from_numpy(df_validation.to_numpy()).view(\n",
    "    df_validation.shape[0],-1,28,28).float()"
   ]
  },
  {
   "cell_type": "markdown",
   "metadata": {
    "papermill": {
     "duration": 0.02137,
     "end_time": "2020-12-29T12:35:13.005466",
     "exception": false,
     "start_time": "2020-12-29T12:35:12.984096",
     "status": "completed"
    },
    "tags": []
   },
   "source": [
    "# Looking at some examples\n",
    "\n",
    "## Train examples"
   ]
  },
  {
   "cell_type": "code",
   "execution_count": 8,
   "metadata": {
    "execution": {
     "iopub.execute_input": "2020-12-29T12:35:13.061889Z",
     "iopub.status.busy": "2020-12-29T12:35:13.061065Z",
     "iopub.status.idle": "2020-12-29T12:35:13.535410Z",
     "shell.execute_reply": "2020-12-29T12:35:13.536057Z"
    },
    "papermill": {
     "duration": 0.508527,
     "end_time": "2020-12-29T12:35:13.536220",
     "exception": false,
     "start_time": "2020-12-29T12:35:13.027693",
     "status": "completed"
    },
    "tags": []
   },
   "outputs": [
    {
     "data": {
      "image/png": "[encoded data removed]",
      "text/plain": [
       "<Figure size 720x360 with 6 Axes>"
      ]
     },
     "metadata": {},
     "output_type": "display_data"
    }
   ],
   "source": [
    "examples = enumerate(test_generator)\n",
    "batch_idx, (example_data, example_labels) = next(examples)\n",
    "\n",
    "\n",
    "fig = plt.figure(figsize = (10,5))\n",
    "for i in range(6):\n",
    "    ax = fig.add_subplot(2,3, i+1)\n",
    "    ax.imshow(example_data[i][0], cmap = \"gray\", interpolation = \"none\")\n",
    "    ax.set_title(f\"Ground truth: {example_labels[i]}\")\n",
    "    ax.set_xticks([])\n",
    "    ax.set_yticks([])\n",
    "fig.tight_layout()\n",
    "fig.show()"
   ]
  },
  {
   "cell_type": "markdown",
   "metadata": {
    "papermill": {
     "duration": 0.025204,
     "end_time": "2020-12-29T12:35:13.586830",
     "exception": false,
     "start_time": "2020-12-29T12:35:13.561626",
     "status": "completed"
    },
    "tags": []
   },
   "source": [
    "## Validation examples"
   ]
  },
  {
   "cell_type": "code",
   "execution_count": 9,
   "metadata": {
    "execution": {
     "iopub.execute_input": "2020-12-29T12:35:13.654572Z",
     "iopub.status.busy": "2020-12-29T12:35:13.651168Z",
     "iopub.status.idle": "2020-12-29T12:35:13.920477Z",
     "shell.execute_reply": "2020-12-29T12:35:13.921159Z"
    },
    "papermill": {
     "duration": 0.309015,
     "end_time": "2020-12-29T12:35:13.921332",
     "exception": false,
     "start_time": "2020-12-29T12:35:13.612317",
     "status": "completed"
    },
    "tags": []
   },
   "outputs": [
    {
     "data": {
      "image/png": "[encoded data removed]",
      "text/plain": [
       "<Figure size 720x360 with 6 Axes>"
      ]
     },
     "metadata": {},
     "output_type": "display_data"
    }
   ],
   "source": [
    "fig = plt.figure(figsize = (10, 5))\n",
    "for i in range(6):\n",
    "    ax = fig.add_subplot(2,3, i+1)\n",
    "    ax.imshow(kaggle_validation_set[i][0], cmap = \"gray\", interpolation = \"none\")\n",
    "    ax.set_title(\"No label\")\n",
    "    ax.set_xticks([])\n",
    "    ax.set_yticks([])\n",
    "\n",
    "fig.suptitle(\"Validation set\")\n",
    "fig.show()"
   ]
  },
  {
   "cell_type": "markdown",
   "metadata": {
    "papermill": {
     "duration": 0.02641,
     "end_time": "2020-12-29T12:35:13.974545",
     "exception": false,
     "start_time": "2020-12-29T12:35:13.948135",
     "status": "completed"
    },
    "tags": []
   },
   "source": [
    "# Build the network"
   ]
  },
  {
   "cell_type": "code",
   "execution_count": 10,
   "metadata": {
    "execution": {
     "iopub.execute_input": "2020-12-29T12:35:14.030389Z",
     "iopub.status.busy": "2020-12-29T12:35:14.029466Z",
     "iopub.status.idle": "2020-12-29T12:35:14.033501Z",
     "shell.execute_reply": "2020-12-29T12:35:14.032880Z"
    },
    "papermill": {
     "duration": 0.035283,
     "end_time": "2020-12-29T12:35:14.033619",
     "exception": false,
     "start_time": "2020-12-29T12:35:13.998336",
     "status": "completed"
    },
    "tags": []
   },
   "outputs": [],
   "source": [
    "import torch.nn as nn\n",
    "import torch.nn.functional as F\n",
    "import torch.optim as optim\n",
    "from torch.optim import lr_scheduler"
   ]
  },
  {
   "cell_type": "code",
   "execution_count": 11,
   "metadata": {
    "execution": {
     "iopub.execute_input": "2020-12-29T12:35:14.102838Z",
     "iopub.status.busy": "2020-12-29T12:35:14.101904Z",
     "iopub.status.idle": "2020-12-29T12:35:14.106325Z",
     "shell.execute_reply": "2020-12-29T12:35:14.105691Z"
    },
    "papermill": {
     "duration": 0.04882,
     "end_time": "2020-12-29T12:35:14.106458",
     "exception": false,
     "start_time": "2020-12-29T12:35:14.057638",
     "status": "completed"
    },
    "tags": []
   },
   "outputs": [],
   "source": [
    "class Net(nn.Module):\n",
    "    def __init__(self):\n",
    "        super(Net, self).__init__()\n",
    "\n",
    "        # Conv 1\n",
    "        # size : input: 28x28x1 -> output : 26 x 26 x 32\n",
    "        self.conv1 = nn.Conv2d(1, 32, kernel_size=3)\n",
    "        self.batchnorm1 = nn.BatchNorm2d(32)\n",
    "        \n",
    "        # Conv 2\n",
    "        # size : input: 26x26x32 -> output : 24 x 24 x 32\n",
    "        self.conv2 = nn.Conv2d(32, 32, kernel_size=3)\n",
    "        self.batchnorm2 = nn.BatchNorm2d(32)\n",
    "        \n",
    "        # Conv 3\n",
    "        # size : input: 24x24x32 -> output : 12 x 12 x 32\n",
    "        self.conv3 = nn.Conv2d(32, 32, kernel_size=2, stride = 2)\n",
    "        self.batchnorm3 = nn.BatchNorm2d(32)\n",
    "        \n",
    "        # Conv 4\n",
    "        # size : input : 12 x 12 x 32 -> output : 8 x 8 x 64\n",
    "        self.conv4 = nn.Conv2d(32, 64, kernel_size=5)\n",
    "        self.batchnorm4 = nn.BatchNorm2d(64)\n",
    "        \n",
    "        # Conv 5\n",
    "        # size : input: 8x8x64 -> output : 4 x 4 x 64 -> Linearize = 1024\n",
    "        self.conv5 = nn.Conv2d(64, 64, kernel_size=2, stride = 2)\n",
    "        self.batchnorm5 = nn.BatchNorm2d(64)\n",
    "        \n",
    "        # dropout layer \n",
    "        self.conv5_drop = nn.Dropout2d()\n",
    "        \n",
    "        # FC 1 \n",
    "        self.fc1 = nn.Linear(1024, 128)\n",
    "        \n",
    "        # FC 2\n",
    "        self.fc2 = nn.Linear(128, 10)\n",
    "\n",
    "    def forward(self, x):\n",
    "        x = self.batchnorm1(F.relu(self.conv1(x)))\n",
    "        x = self.batchnorm2(F.relu(self.conv2(x)))\n",
    "        x = self.batchnorm3(F.relu(self.conv3(x)))\n",
    "        x = self.batchnorm4(F.relu(self.conv4(x)))\n",
    "        x = self.batchnorm5(F.relu(self.conv5(x)))\n",
    "        x = self.conv5_drop(x)\n",
    "        x = x.view(-1, 1024)\n",
    "        x = F.relu(self.fc1(x))\n",
    "        x = F.log_softmax(self.fc2(x), dim=1)\n",
    "        return x"
   ]
  },
  {
   "cell_type": "markdown",
   "metadata": {
    "papermill": {
     "duration": 0.023933,
     "end_time": "2020-12-29T12:35:14.154738",
     "exception": false,
     "start_time": "2020-12-29T12:35:14.130805",
     "status": "completed"
    },
    "tags": []
   },
   "source": [
    "## Train the model"
   ]
  },
  {
   "cell_type": "code",
   "execution_count": 12,
   "metadata": {
    "execution": {
     "iopub.execute_input": "2020-12-29T12:35:14.211699Z",
     "iopub.status.busy": "2020-12-29T12:35:14.210881Z",
     "iopub.status.idle": "2020-12-29T12:35:14.216633Z",
     "shell.execute_reply": "2020-12-29T12:35:14.216072Z"
    },
    "papermill": {
     "duration": 0.037,
     "end_time": "2020-12-29T12:35:14.216752",
     "exception": false,
     "start_time": "2020-12-29T12:35:14.179752",
     "status": "completed"
    },
    "tags": []
   },
   "outputs": [],
   "source": [
    "train_losses = []\n",
    "train_counter = []\n",
    "\n",
    "test_losses = []\n",
    "\n",
    "test_counter = [i*len(training_generator.dataset) for i in range(n_epochs + 1)]\n",
    "\n",
    "# only print on the last batch\n",
    "log_interval = len(training_generator)\n",
    "\n",
    "# network_list \n",
    "network_list = []\n",
    "\n",
    "# output tensor\n",
    "prediction_tensor = torch.zeros(kaggle_validation_set.shape[0],10)"
   ]
  },
  {
   "cell_type": "code",
   "execution_count": 13,
   "metadata": {
    "execution": {
     "iopub.execute_input": "2020-12-29T12:35:14.289356Z",
     "iopub.status.busy": "2020-12-29T12:35:14.279473Z",
     "iopub.status.idle": "2020-12-29T12:35:14.292464Z",
     "shell.execute_reply": "2020-12-29T12:35:14.291876Z"
    },
    "papermill": {
     "duration": 0.050958,
     "end_time": "2020-12-29T12:35:14.292607",
     "exception": false,
     "start_time": "2020-12-29T12:35:14.241649",
     "status": "completed"
    },
    "tags": []
   },
   "outputs": [],
   "source": [
    "def train(epoch, network, scheduler, network_id, device):\n",
    "    start_time = time.time()\n",
    "    \n",
    "    network.train()\n",
    "    for batch_idx, (data, target) in enumerate(training_generator):\n",
    "        data = data.to(device)\n",
    "        target = target.to(device)\n",
    "        \n",
    "        optimizer.zero_grad()\n",
    "        \n",
    "        output = network(data)\n",
    "        \n",
    "        loss = F.nll_loss(output, target)\n",
    "        loss.backward()\n",
    "        \n",
    "        optimizer.step()\n",
    "    \n",
    "    print('CNN : {},\\t Train Epoch: {} \\tLoss: {:.6f},\\t runtime: {:.2f}'.format(\n",
    "        network_id,\n",
    "        epoch, loss.item(), time.time()-start_time))\n",
    "    \n",
    "    train_losses.append(loss.item())\n",
    "    train_counter.append(epoch)\n",
    "\n",
    "    torch.save(network.state_dict(), kaggle_model_path%network_id)\n",
    "    torch.save(optimizer.state_dict(),kaggle_optimizer_path%network_id)\n",
    "    scheduler.step()\n",
    "\n",
    "\n",
    "def test(network):\n",
    "    network.eval()\n",
    "    test_loss = 0\n",
    "    correct = 0\n",
    "    with torch.no_grad():\n",
    "        for data, target in test_generator:\n",
    "            data = data.to(device)\n",
    "            target = target.to(device)\n",
    "            \n",
    "            output = network(data)\n",
    "            test_loss += F.nll_loss(output, target, reduction=\"sum\").item()\n",
    "            pred = output.data.max(1, keepdim=True)[1]\n",
    "            correct += pred.eq(target.data.view_as(pred)).sum()\n",
    "            \n",
    "    test_loss /= len(test_generator.dataset)\n",
    "    test_losses.append(test_loss)\n",
    "    print('\\nTest set: Avg. loss: {:.4f}, Accuracy: {}/{} ({:.5f}%)\\n'.format(\n",
    "                test_loss, correct, len(test_generator.dataset),\n",
    "                100. * correct / len(test_generator.dataset)))\n",
    "\n",
    "\n",
    "def validation(network, validation_tensor, prediction_tensor):\n",
    "    \n",
    "    with torch.no_grad():\n",
    "        output = network(validation_tensor)\n",
    "    \n",
    "    prediction_tensor = prediction_tensor + output\n",
    "    \n",
    "    return prediction_tensor\n",
    "\n",
    "\n",
    "\n",
    "def initialise_network(device):\n",
    "    network = Net().to(device)\n",
    "    optimizer = optim.SGD(network.parameters(), lr=learning_rate, momentum = momentum)\n",
    "    exp_lr_scheduler = lr_scheduler.StepLR(optimizer, step_size=7, gamma=0.95)\n",
    "    \n",
    "    return network, optimizer, exp_lr_scheduler"
   ]
  },
  {
   "cell_type": "markdown",
   "metadata": {
    "papermill": {
     "duration": 0.024448,
     "end_time": "2020-12-29T12:35:14.341824",
     "exception": false,
     "start_time": "2020-12-29T12:35:14.317376",
     "status": "completed"
    },
    "tags": []
   },
   "source": [
    "### Initialise the network and train"
   ]
  },
  {
   "cell_type": "code",
   "execution_count": 14,
   "metadata": {
    "execution": {
     "iopub.execute_input": "2020-12-29T12:35:14.403837Z",
     "iopub.status.busy": "2020-12-29T12:35:14.403053Z",
     "iopub.status.idle": "2020-12-29T13:32:09.921184Z",
     "shell.execute_reply": "2020-12-29T13:32:09.922234Z"
    },
    "papermill": {
     "duration": 3415.556258,
     "end_time": "2020-12-29T13:32:09.922508",
     "exception": false,
     "start_time": "2020-12-29T12:35:14.366250",
     "status": "completed"
    },
    "tags": []
   },
   "outputs": [
    {
     "name": "stdout",
     "output_type": "stream",
     "text": [
      "CNN : 1,\t Train Epoch: 1 \tLoss: 0.041862,\t runtime: 12.55\n",
      "CNN : 1,\t Train Epoch: 2 \tLoss: 0.048314,\t runtime: 11.66\n",
      "CNN : 1,\t Train Epoch: 3 \tLoss: 0.017722,\t runtime: 10.93\n",
      "CNN : 1,\t Train Epoch: 4 \tLoss: 0.030813,\t runtime: 11.48\n",
      "CNN : 1,\t Train Epoch: 5 \tLoss: 0.005597,\t runtime: 10.91\n",
      "CNN : 1,\t Train Epoch: 6 \tLoss: 0.040222,\t runtime: 10.86\n",
      "CNN : 1,\t Train Epoch: 7 \tLoss: 0.009441,\t runtime: 12.97\n",
      "CNN : 1,\t Train Epoch: 8 \tLoss: 0.003533,\t runtime: 10.84\n",
      "CNN : 1,\t Train Epoch: 9 \tLoss: 0.000497,\t runtime: 10.85\n",
      "CNN : 1,\t Train Epoch: 10 \tLoss: 0.005570,\t runtime: 11.58\n",
      "CNN : 1,\t Train Epoch: 11 \tLoss: 0.006692,\t runtime: 11.10\n",
      "CNN : 1,\t Train Epoch: 12 \tLoss: 0.030022,\t runtime: 11.95\n",
      "CNN : 1,\t Train Epoch: 13 \tLoss: 0.000580,\t runtime: 11.48\n",
      "CNN : 1,\t Train Epoch: 14 \tLoss: 0.001744,\t runtime: 10.82\n",
      "CNN : 1,\t Train Epoch: 15 \tLoss: 0.004347,\t runtime: 10.78\n",
      "CNN : 1,\t Train Epoch: 16 \tLoss: 0.004989,\t runtime: 11.42\n",
      "CNN : 1,\t Train Epoch: 17 \tLoss: 0.026992,\t runtime: 11.43\n",
      "CNN : 1,\t Train Epoch: 18 \tLoss: 0.001094,\t runtime: 13.00\n",
      "CNN : 1,\t Train Epoch: 19 \tLoss: 0.000050,\t runtime: 10.92\n",
      "CNN : 1,\t Train Epoch: 20 \tLoss: 0.000656,\t runtime: 10.77\n",
      "CNN : 1,\t Train Epoch: 21 \tLoss: 0.002448,\t runtime: 11.45\n",
      "CNN : 1,\t Train Epoch: 22 \tLoss: 0.000127,\t runtime: 10.82\n",
      "CNN : 1,\t Train Epoch: 23 \tLoss: 0.004439,\t runtime: 12.53\n",
      "CNN : 1,\t Train Epoch: 24 \tLoss: 0.003717,\t runtime: 11.81\n",
      "CNN : 1,\t Train Epoch: 25 \tLoss: 0.000024,\t runtime: 10.87\n",
      "\n",
      "Test set: Avg. loss: 0.0241, Accuracy: 418/420 (99.52381%)\n",
      "\n",
      "CNN : 2,\t Train Epoch: 1 \tLoss: 0.223560,\t runtime: 11.05\n",
      "CNN : 2,\t Train Epoch: 2 \tLoss: 0.036241,\t runtime: 11.58\n",
      "CNN : 2,\t Train Epoch: 3 \tLoss: 0.022861,\t runtime: 12.61\n",
      "CNN : 2,\t Train Epoch: 4 \tLoss: 0.042983,\t runtime: 10.85\n",
      "CNN : 2,\t Train Epoch: 5 \tLoss: 0.022783,\t runtime: 11.59\n",
      "CNN : 2,\t Train Epoch: 6 \tLoss: 0.033031,\t runtime: 11.04\n",
      "CNN : 2,\t Train Epoch: 7 \tLoss: 0.017156,\t runtime: 10.91\n",
      "CNN : 2,\t Train Epoch: 8 \tLoss: 0.019599,\t runtime: 12.83\n",
      "CNN : 2,\t Train Epoch: 9 \tLoss: 0.013236,\t runtime: 11.03\n",
      "CNN : 2,\t Train Epoch: 10 \tLoss: 0.035850,\t runtime: 10.96\n",
      "CNN : 2,\t Train Epoch: 11 \tLoss: 0.002854,\t runtime: 11.60\n",
      "CNN : 2,\t Train Epoch: 12 \tLoss: 0.002961,\t runtime: 11.13\n",
      "CNN : 2,\t Train Epoch: 13 \tLoss: 0.009740,\t runtime: 12.00\n",
      "CNN : 2,\t Train Epoch: 14 \tLoss: 0.005562,\t runtime: 12.82\n",
      "CNN : 2,\t Train Epoch: 15 \tLoss: 0.002908,\t runtime: 11.01\n",
      "CNN : 2,\t Train Epoch: 16 \tLoss: 0.004820,\t runtime: 11.61\n",
      "CNN : 2,\t Train Epoch: 17 \tLoss: 0.001768,\t runtime: 10.98\n",
      "CNN : 2,\t Train Epoch: 18 \tLoss: 0.000172,\t runtime: 11.68\n",
      "CNN : 2,\t Train Epoch: 19 \tLoss: 0.004766,\t runtime: 12.74\n",
      "CNN : 2,\t Train Epoch: 20 \tLoss: 0.011910,\t runtime: 10.92\n",
      "CNN : 2,\t Train Epoch: 21 \tLoss: 0.000880,\t runtime: 10.94\n",
      "CNN : 2,\t Train Epoch: 22 \tLoss: 0.009135,\t runtime: 11.76\n",
      "CNN : 2,\t Train Epoch: 23 \tLoss: 0.000296,\t runtime: 11.47\n",
      "CNN : 2,\t Train Epoch: 24 \tLoss: 0.000085,\t runtime: 12.04\n",
      "CNN : 2,\t Train Epoch: 25 \tLoss: 0.007267,\t runtime: 11.62\n",
      "\n",
      "Test set: Avg. loss: 0.0340, Accuracy: 418/420 (99.52381%)\n",
      "\n",
      "CNN : 3,\t Train Epoch: 1 \tLoss: 0.067732,\t runtime: 10.84\n",
      "CNN : 3,\t Train Epoch: 2 \tLoss: 0.072183,\t runtime: 10.88\n",
      "CNN : 3,\t Train Epoch: 3 \tLoss: 0.003709,\t runtime: 11.66\n",
      "CNN : 3,\t Train Epoch: 4 \tLoss: 0.122195,\t runtime: 12.07\n",
      "CNN : 3,\t Train Epoch: 5 \tLoss: 0.016788,\t runtime: 11.06\n",
      "CNN : 3,\t Train Epoch: 6 \tLoss: 0.090489,\t runtime: 11.50\n",
      "CNN : 3,\t Train Epoch: 7 \tLoss: 0.027093,\t runtime: 10.92\n",
      "CNN : 3,\t Train Epoch: 8 \tLoss: 0.019836,\t runtime: 11.05\n",
      "CNN : 3,\t Train Epoch: 9 \tLoss: 0.044540,\t runtime: 12.34\n",
      "CNN : 3,\t Train Epoch: 10 \tLoss: 0.021485,\t runtime: 11.15\n",
      "CNN : 3,\t Train Epoch: 11 \tLoss: 0.019241,\t runtime: 10.96\n",
      "CNN : 3,\t Train Epoch: 12 \tLoss: 0.006030,\t runtime: 11.69\n",
      "CNN : 3,\t Train Epoch: 13 \tLoss: 0.000792,\t runtime: 10.90\n",
      "CNN : 3,\t Train Epoch: 14 \tLoss: 0.004374,\t runtime: 12.28\n",
      "CNN : 3,\t Train Epoch: 15 \tLoss: 0.005756,\t runtime: 11.91\n",
      "CNN : 3,\t Train Epoch: 16 \tLoss: 0.021376,\t runtime: 10.86\n",
      "CNN : 3,\t Train Epoch: 17 \tLoss: 0.000433,\t runtime: 11.46\n",
      "CNN : 3,\t Train Epoch: 18 \tLoss: 0.002095,\t runtime: 10.88\n",
      "CNN : 3,\t Train Epoch: 19 \tLoss: 0.000154,\t runtime: 10.90\n",
      "CNN : 3,\t Train Epoch: 20 \tLoss: 0.000443,\t runtime: 12.81\n",
      "CNN : 3,\t Train Epoch: 21 \tLoss: 0.007279,\t runtime: 11.12\n",
      "CNN : 3,\t Train Epoch: 22 \tLoss: 0.001109,\t runtime: 11.11\n",
      "CNN : 3,\t Train Epoch: 23 \tLoss: 0.049820,\t runtime: 11.45\n",
      "CNN : 3,\t Train Epoch: 24 \tLoss: 0.000624,\t runtime: 10.97\n",
      "CNN : 3,\t Train Epoch: 25 \tLoss: 0.000274,\t runtime: 11.91\n",
      "\n",
      "Test set: Avg. loss: 0.0223, Accuracy: 418/420 (99.52381%)\n",
      "\n",
      "CNN : 4,\t Train Epoch: 1 \tLoss: 0.136322,\t runtime: 12.02\n",
      "CNN : 4,\t Train Epoch: 2 \tLoss: 0.042656,\t runtime: 11.04\n",
      "CNN : 4,\t Train Epoch: 3 \tLoss: 0.046228,\t runtime: 10.94\n",
      "CNN : 4,\t Train Epoch: 4 \tLoss: 0.102473,\t runtime: 11.65\n",
      "CNN : 4,\t Train Epoch: 5 \tLoss: 0.018588,\t runtime: 12.07\n",
      "CNN : 4,\t Train Epoch: 6 \tLoss: 0.022654,\t runtime: 11.22\n",
      "CNN : 4,\t Train Epoch: 7 \tLoss: 0.068041,\t runtime: 11.38\n",
      "CNN : 4,\t Train Epoch: 8 \tLoss: 0.003053,\t runtime: 11.04\n",
      "CNN : 4,\t Train Epoch: 9 \tLoss: 0.004247,\t runtime: 11.09\n",
      "CNN : 4,\t Train Epoch: 10 \tLoss: 0.001897,\t runtime: 11.89\n",
      "CNN : 4,\t Train Epoch: 11 \tLoss: 0.006053,\t runtime: 12.03\n",
      "CNN : 4,\t Train Epoch: 12 \tLoss: 0.006122,\t runtime: 11.72\n",
      "CNN : 4,\t Train Epoch: 13 \tLoss: 0.016476,\t runtime: 10.97\n",
      "CNN : 4,\t Train Epoch: 14 \tLoss: 0.002196,\t runtime: 10.91\n",
      "CNN : 4,\t Train Epoch: 15 \tLoss: 0.055204,\t runtime: 12.24\n",
      "CNN : 4,\t Train Epoch: 16 \tLoss: 0.012693,\t runtime: 11.86\n",
      "CNN : 4,\t Train Epoch: 17 \tLoss: 0.001069,\t runtime: 10.90\n",
      "CNN : 4,\t Train Epoch: 18 \tLoss: 0.011946,\t runtime: 11.28\n",
      "CNN : 4,\t Train Epoch: 19 \tLoss: 0.003546,\t runtime: 10.84\n",
      "CNN : 4,\t Train Epoch: 20 \tLoss: 0.020861,\t runtime: 10.89\n",
      "CNN : 4,\t Train Epoch: 21 \tLoss: 0.004793,\t runtime: 12.76\n",
      "CNN : 4,\t Train Epoch: 22 \tLoss: 0.000236,\t runtime: 10.99\n",
      "CNN : 4,\t Train Epoch: 23 \tLoss: 0.000612,\t runtime: 10.94\n",
      "CNN : 4,\t Train Epoch: 24 \tLoss: 0.000898,\t runtime: 11.32\n",
      "CNN : 4,\t Train Epoch: 25 \tLoss: 0.003418,\t runtime: 10.87\n",
      "\n",
      "Test set: Avg. loss: 0.0201, Accuracy: 418/420 (99.52381%)\n",
      "\n",
      "CNN : 5,\t Train Epoch: 1 \tLoss: 0.053428,\t runtime: 12.39\n",
      "CNN : 5,\t Train Epoch: 2 \tLoss: 0.028103,\t runtime: 11.49\n",
      "CNN : 5,\t Train Epoch: 3 \tLoss: 0.049371,\t runtime: 10.91\n",
      "CNN : 5,\t Train Epoch: 4 \tLoss: 0.024785,\t runtime: 11.05\n",
      "CNN : 5,\t Train Epoch: 5 \tLoss: 0.003765,\t runtime: 11.54\n",
      "CNN : 5,\t Train Epoch: 6 \tLoss: 0.002267,\t runtime: 11.50\n",
      "CNN : 5,\t Train Epoch: 7 \tLoss: 0.010334,\t runtime: 11.64\n",
      "CNN : 5,\t Train Epoch: 8 \tLoss: 0.007969,\t runtime: 11.40\n",
      "CNN : 5,\t Train Epoch: 9 \tLoss: 0.001922,\t runtime: 10.95\n",
      "CNN : 5,\t Train Epoch: 10 \tLoss: 0.025400,\t runtime: 10.96\n",
      "CNN : 5,\t Train Epoch: 11 \tLoss: 0.014306,\t runtime: 12.23\n",
      "CNN : 5,\t Train Epoch: 12 \tLoss: 0.013446,\t runtime: 12.17\n",
      "CNN : 5,\t Train Epoch: 13 \tLoss: 0.001289,\t runtime: 11.44\n",
      "CNN : 5,\t Train Epoch: 14 \tLoss: 0.001165,\t runtime: 10.79\n",
      "CNN : 5,\t Train Epoch: 15 \tLoss: 0.017825,\t runtime: 10.87\n",
      "CNN : 5,\t Train Epoch: 16 \tLoss: 0.004706,\t runtime: 11.38\n",
      "CNN : 5,\t Train Epoch: 17 \tLoss: 0.001497,\t runtime: 12.19\n",
      "CNN : 5,\t Train Epoch: 18 \tLoss: 0.012492,\t runtime: 11.01\n",
      "CNN : 5,\t Train Epoch: 19 \tLoss: 0.000207,\t runtime: 11.41\n",
      "CNN : 5,\t Train Epoch: 20 \tLoss: 0.000944,\t runtime: 10.82\n",
      "CNN : 5,\t Train Epoch: 21 \tLoss: 0.010746,\t runtime: 11.12\n",
      "CNN : 5,\t Train Epoch: 22 \tLoss: 0.005069,\t runtime: 12.76\n",
      "CNN : 5,\t Train Epoch: 23 \tLoss: 0.033780,\t runtime: 10.98\n",
      "CNN : 5,\t Train Epoch: 24 \tLoss: 0.001448,\t runtime: 11.13\n",
      "CNN : 5,\t Train Epoch: 25 \tLoss: 0.001059,\t runtime: 11.40\n",
      "\n",
      "Test set: Avg. loss: 0.0299, Accuracy: 418/420 (99.52381%)\n",
      "\n",
      "CNN : 6,\t Train Epoch: 1 \tLoss: 0.015571,\t runtime: 11.04\n",
      "CNN : 6,\t Train Epoch: 2 \tLoss: 0.104158,\t runtime: 11.66\n",
      "CNN : 6,\t Train Epoch: 3 \tLoss: 0.034010,\t runtime: 12.16\n",
      "CNN : 6,\t Train Epoch: 4 \tLoss: 0.015698,\t runtime: 10.81\n",
      "CNN : 6,\t Train Epoch: 5 \tLoss: 0.014128,\t runtime: 10.99\n",
      "CNN : 6,\t Train Epoch: 6 \tLoss: 0.002267,\t runtime: 11.59\n",
      "CNN : 6,\t Train Epoch: 7 \tLoss: 0.000937,\t runtime: 11.05\n",
      "CNN : 6,\t Train Epoch: 8 \tLoss: 0.004509,\t runtime: 12.24\n",
      "CNN : 6,\t Train Epoch: 9 \tLoss: 0.061965,\t runtime: 11.92\n",
      "CNN : 6,\t Train Epoch: 10 \tLoss: 0.003851,\t runtime: 10.93\n",
      "CNN : 6,\t Train Epoch: 11 \tLoss: 0.000971,\t runtime: 11.24\n",
      "CNN : 6,\t Train Epoch: 12 \tLoss: 0.002576,\t runtime: 10.97\n",
      "CNN : 6,\t Train Epoch: 13 \tLoss: 0.014325,\t runtime: 12.15\n",
      "CNN : 6,\t Train Epoch: 14 \tLoss: 0.008964,\t runtime: 11.35\n",
      "CNN : 6,\t Train Epoch: 15 \tLoss: 0.010046,\t runtime: 10.90\n",
      "CNN : 6,\t Train Epoch: 16 \tLoss: 0.000502,\t runtime: 10.75\n",
      "CNN : 6,\t Train Epoch: 17 \tLoss: 0.008193,\t runtime: 11.35\n",
      "CNN : 6,\t Train Epoch: 18 \tLoss: 0.000257,\t runtime: 11.57\n",
      "CNN : 6,\t Train Epoch: 19 \tLoss: 0.000857,\t runtime: 11.05\n",
      "CNN : 6,\t Train Epoch: 20 \tLoss: 0.001403,\t runtime: 11.48\n",
      "CNN : 6,\t Train Epoch: 21 \tLoss: 0.000162,\t runtime: 10.93\n",
      "CNN : 6,\t Train Epoch: 22 \tLoss: 0.000385,\t runtime: 10.76\n",
      "CNN : 6,\t Train Epoch: 23 \tLoss: 0.000817,\t runtime: 11.80\n",
      "CNN : 6,\t Train Epoch: 24 \tLoss: 0.001067,\t runtime: 11.61\n",
      "CNN : 6,\t Train Epoch: 25 \tLoss: 0.000993,\t runtime: 10.76\n",
      "\n",
      "Test set: Avg. loss: 0.0423, Accuracy: 418/420 (99.52381%)\n",
      "\n",
      "CNN : 7,\t Train Epoch: 1 \tLoss: 0.026379,\t runtime: 11.25\n",
      "CNN : 7,\t Train Epoch: 2 \tLoss: 0.030128,\t runtime: 10.91\n",
      "CNN : 7,\t Train Epoch: 3 \tLoss: 0.031512,\t runtime: 10.90\n",
      "CNN : 7,\t Train Epoch: 4 \tLoss: 0.028411,\t runtime: 12.58\n",
      "CNN : 7,\t Train Epoch: 5 \tLoss: 0.019131,\t runtime: 10.73\n",
      "CNN : 7,\t Train Epoch: 6 \tLoss: 0.001263,\t runtime: 11.17\n",
      "CNN : 7,\t Train Epoch: 7 \tLoss: 0.060948,\t runtime: 10.87\n",
      "CNN : 7,\t Train Epoch: 8 \tLoss: 0.021303,\t runtime: 10.72\n",
      "CNN : 7,\t Train Epoch: 9 \tLoss: 0.015335,\t runtime: 12.40\n",
      "CNN : 7,\t Train Epoch: 10 \tLoss: 0.028282,\t runtime: 11.10\n",
      "CNN : 7,\t Train Epoch: 11 \tLoss: 0.032437,\t runtime: 10.84\n",
      "CNN : 7,\t Train Epoch: 12 \tLoss: 0.002026,\t runtime: 11.36\n",
      "CNN : 7,\t Train Epoch: 13 \tLoss: 0.001297,\t runtime: 10.85\n",
      "CNN : 7,\t Train Epoch: 14 \tLoss: 0.001687,\t runtime: 11.68\n",
      "CNN : 7,\t Train Epoch: 15 \tLoss: 0.005226,\t runtime: 11.97\n",
      "CNN : 7,\t Train Epoch: 16 \tLoss: 0.000485,\t runtime: 10.84\n",
      "CNN : 7,\t Train Epoch: 17 \tLoss: 0.002014,\t runtime: 10.83\n",
      "CNN : 7,\t Train Epoch: 18 \tLoss: 0.002036,\t runtime: 11.24\n",
      "CNN : 7,\t Train Epoch: 19 \tLoss: 0.001103,\t runtime: 10.78\n",
      "CNN : 7,\t Train Epoch: 20 \tLoss: 0.031882,\t runtime: 11.85\n",
      "CNN : 7,\t Train Epoch: 21 \tLoss: 0.002930,\t runtime: 11.33\n",
      "CNN : 7,\t Train Epoch: 22 \tLoss: 0.010401,\t runtime: 10.79\n",
      "CNN : 7,\t Train Epoch: 23 \tLoss: 0.000788,\t runtime: 10.71\n",
      "CNN : 7,\t Train Epoch: 24 \tLoss: 0.000259,\t runtime: 11.25\n",
      "CNN : 7,\t Train Epoch: 25 \tLoss: 0.008541,\t runtime: 11.37\n",
      "\n",
      "Test set: Avg. loss: 0.0263, Accuracy: 418/420 (99.52381%)\n",
      "\n",
      "CNN : 8,\t Train Epoch: 1 \tLoss: 0.126156,\t runtime: 11.36\n",
      "CNN : 8,\t Train Epoch: 2 \tLoss: 0.046393,\t runtime: 11.27\n",
      "CNN : 8,\t Train Epoch: 3 \tLoss: 0.049107,\t runtime: 10.80\n",
      "CNN : 8,\t Train Epoch: 4 \tLoss: 0.010878,\t runtime: 10.77\n",
      "CNN : 8,\t Train Epoch: 5 \tLoss: 0.005485,\t runtime: 11.65\n",
      "CNN : 8,\t Train Epoch: 6 \tLoss: 0.009527,\t runtime: 11.58\n",
      "CNN : 8,\t Train Epoch: 7 \tLoss: 0.007863,\t runtime: 11.40\n",
      "CNN : 8,\t Train Epoch: 8 \tLoss: 0.014169,\t runtime: 11.18\n",
      "CNN : 8,\t Train Epoch: 9 \tLoss: 0.012053,\t runtime: 10.70\n",
      "CNN : 8,\t Train Epoch: 10 \tLoss: 0.001352,\t runtime: 11.05\n",
      "CNN : 8,\t Train Epoch: 11 \tLoss: 0.087477,\t runtime: 12.29\n",
      "CNN : 8,\t Train Epoch: 12 \tLoss: 0.024609,\t runtime: 11.13\n",
      "CNN : 8,\t Train Epoch: 13 \tLoss: 0.003848,\t runtime: 11.34\n",
      "CNN : 8,\t Train Epoch: 14 \tLoss: 0.000739,\t runtime: 10.72\n",
      "CNN : 8,\t Train Epoch: 15 \tLoss: 0.014214,\t runtime: 10.98\n",
      "CNN : 8,\t Train Epoch: 16 \tLoss: 0.002034,\t runtime: 12.16\n",
      "CNN : 8,\t Train Epoch: 17 \tLoss: 0.001697,\t runtime: 11.27\n",
      "CNN : 8,\t Train Epoch: 18 \tLoss: 0.012406,\t runtime: 10.80\n",
      "CNN : 8,\t Train Epoch: 19 \tLoss: 0.002929,\t runtime: 11.13\n",
      "CNN : 8,\t Train Epoch: 20 \tLoss: 0.001701,\t runtime: 10.74\n",
      "CNN : 8,\t Train Epoch: 21 \tLoss: 0.029441,\t runtime: 11.33\n",
      "CNN : 8,\t Train Epoch: 22 \tLoss: 0.005189,\t runtime: 11.76\n",
      "CNN : 8,\t Train Epoch: 23 \tLoss: 0.002570,\t runtime: 10.87\n",
      "CNN : 8,\t Train Epoch: 24 \tLoss: 0.000902,\t runtime: 10.97\n",
      "CNN : 8,\t Train Epoch: 25 \tLoss: 0.000620,\t runtime: 11.35\n",
      "\n",
      "Test set: Avg. loss: 0.0159, Accuracy: 418/420 (99.52381%)\n",
      "\n",
      "CNN : 9,\t Train Epoch: 1 \tLoss: 0.275315,\t runtime: 10.76\n",
      "CNN : 9,\t Train Epoch: 2 \tLoss: 0.024970,\t runtime: 12.01\n",
      "CNN : 9,\t Train Epoch: 3 \tLoss: 0.052196,\t runtime: 11.25\n",
      "CNN : 9,\t Train Epoch: 4 \tLoss: 0.023167,\t runtime: 10.84\n",
      "CNN : 9,\t Train Epoch: 5 \tLoss: 0.012596,\t runtime: 11.24\n",
      "CNN : 9,\t Train Epoch: 6 \tLoss: 0.020427,\t runtime: 11.28\n",
      "CNN : 9,\t Train Epoch: 7 \tLoss: 0.028861,\t runtime: 11.79\n",
      "CNN : 9,\t Train Epoch: 8 \tLoss: 0.026810,\t runtime: 11.00\n",
      "CNN : 9,\t Train Epoch: 9 \tLoss: 0.009055,\t runtime: 11.60\n",
      "CNN : 9,\t Train Epoch: 10 \tLoss: 0.000423,\t runtime: 10.72\n",
      "CNN : 9,\t Train Epoch: 11 \tLoss: 0.000882,\t runtime: 11.00\n",
      "CNN : 9,\t Train Epoch: 12 \tLoss: 0.002817,\t runtime: 11.44\n",
      "CNN : 9,\t Train Epoch: 13 \tLoss: 0.003277,\t runtime: 11.35\n",
      "CNN : 9,\t Train Epoch: 14 \tLoss: 0.000968,\t runtime: 11.24\n",
      "CNN : 9,\t Train Epoch: 15 \tLoss: 0.000315,\t runtime: 10.85\n",
      "CNN : 9,\t Train Epoch: 16 \tLoss: 0.000708,\t runtime: 10.79\n",
      "CNN : 9,\t Train Epoch: 17 \tLoss: 0.022701,\t runtime: 11.49\n",
      "CNN : 9,\t Train Epoch: 18 \tLoss: 0.005265,\t runtime: 12.14\n",
      "CNN : 9,\t Train Epoch: 19 \tLoss: 0.002422,\t runtime: 10.97\n",
      "CNN : 9,\t Train Epoch: 20 \tLoss: 0.004642,\t runtime: 11.36\n",
      "CNN : 9,\t Train Epoch: 21 \tLoss: 0.000470,\t runtime: 10.77\n",
      "CNN : 9,\t Train Epoch: 22 \tLoss: 0.000793,\t runtime: 10.96\n",
      "CNN : 9,\t Train Epoch: 23 \tLoss: 0.003489,\t runtime: 12.68\n",
      "CNN : 9,\t Train Epoch: 24 \tLoss: 0.023307,\t runtime: 11.22\n",
      "CNN : 9,\t Train Epoch: 25 \tLoss: 0.000268,\t runtime: 10.96\n",
      "\n",
      "Test set: Avg. loss: 0.0267, Accuracy: 418/420 (99.52381%)\n",
      "\n",
      "CNN : 10,\t Train Epoch: 1 \tLoss: 0.064203,\t runtime: 11.32\n",
      "CNN : 10,\t Train Epoch: 2 \tLoss: 0.038044,\t runtime: 10.87\n",
      "CNN : 10,\t Train Epoch: 3 \tLoss: 0.043164,\t runtime: 11.44\n",
      "CNN : 10,\t Train Epoch: 4 \tLoss: 0.048040,\t runtime: 12.23\n",
      "CNN : 10,\t Train Epoch: 5 \tLoss: 0.024578,\t runtime: 10.81\n",
      "CNN : 10,\t Train Epoch: 6 \tLoss: 0.074909,\t runtime: 11.08\n",
      "CNN : 10,\t Train Epoch: 7 \tLoss: 0.124579,\t runtime: 11.54\n",
      "CNN : 10,\t Train Epoch: 8 \tLoss: 0.106250,\t runtime: 10.85\n",
      "CNN : 10,\t Train Epoch: 9 \tLoss: 0.006860,\t runtime: 12.06\n",
      "CNN : 10,\t Train Epoch: 10 \tLoss: 0.001908,\t runtime: 11.52\n",
      "CNN : 10,\t Train Epoch: 11 \tLoss: 0.007619,\t runtime: 10.81\n",
      "CNN : 10,\t Train Epoch: 12 \tLoss: 0.021331,\t runtime: 10.84\n",
      "CNN : 10,\t Train Epoch: 13 \tLoss: 0.004427,\t runtime: 11.67\n",
      "CNN : 10,\t Train Epoch: 14 \tLoss: 0.002603,\t runtime: 12.37\n",
      "CNN : 10,\t Train Epoch: 15 \tLoss: 0.000567,\t runtime: 10.98\n",
      "CNN : 10,\t Train Epoch: 16 \tLoss: 0.036387,\t runtime: 11.34\n",
      "CNN : 10,\t Train Epoch: 17 \tLoss: 0.052101,\t runtime: 10.80\n",
      "CNN : 10,\t Train Epoch: 18 \tLoss: 0.002027,\t runtime: 10.82\n",
      "CNN : 10,\t Train Epoch: 19 \tLoss: 0.003376,\t runtime: 12.20\n",
      "CNN : 10,\t Train Epoch: 20 \tLoss: 0.000570,\t runtime: 11.49\n",
      "CNN : 10,\t Train Epoch: 21 \tLoss: 0.000420,\t runtime: 10.94\n",
      "CNN : 10,\t Train Epoch: 22 \tLoss: 0.004323,\t runtime: 11.34\n",
      "CNN : 10,\t Train Epoch: 23 \tLoss: 0.000475,\t runtime: 10.78\n",
      "CNN : 10,\t Train Epoch: 24 \tLoss: 0.071069,\t runtime: 10.98\n",
      "CNN : 10,\t Train Epoch: 25 \tLoss: 0.001794,\t runtime: 12.39\n",
      "\n",
      "Test set: Avg. loss: 0.0322, Accuracy: 418/420 (99.52381%)\n",
      "\n",
      "CNN : 11,\t Train Epoch: 1 \tLoss: 0.098039,\t runtime: 10.89\n",
      "CNN : 11,\t Train Epoch: 2 \tLoss: 0.069167,\t runtime: 10.91\n",
      "CNN : 11,\t Train Epoch: 3 \tLoss: 0.013211,\t runtime: 11.51\n",
      "CNN : 11,\t Train Epoch: 4 \tLoss: 0.001669,\t runtime: 10.88\n",
      "CNN : 11,\t Train Epoch: 5 \tLoss: 0.002217,\t runtime: 12.12\n",
      "CNN : 11,\t Train Epoch: 6 \tLoss: 0.020867,\t runtime: 11.97\n",
      "CNN : 11,\t Train Epoch: 7 \tLoss: 0.049722,\t runtime: 11.09\n",
      "CNN : 11,\t Train Epoch: 8 \tLoss: 0.011356,\t runtime: 10.90\n",
      "CNN : 11,\t Train Epoch: 9 \tLoss: 0.007071,\t runtime: 11.44\n",
      "CNN : 11,\t Train Epoch: 10 \tLoss: 0.012132,\t runtime: 11.69\n",
      "CNN : 11,\t Train Epoch: 11 \tLoss: 0.000695,\t runtime: 11.75\n",
      "CNN : 11,\t Train Epoch: 12 \tLoss: 0.011408,\t runtime: 10.98\n",
      "CNN : 11,\t Train Epoch: 13 \tLoss: 0.030779,\t runtime: 10.80\n",
      "CNN : 11,\t Train Epoch: 14 \tLoss: 0.001109,\t runtime: 10.79\n",
      "CNN : 11,\t Train Epoch: 15 \tLoss: 0.002877,\t runtime: 11.96\n",
      "CNN : 11,\t Train Epoch: 16 \tLoss: 0.001560,\t runtime: 11.46\n",
      "CNN : 11,\t Train Epoch: 17 \tLoss: 0.002073,\t runtime: 11.34\n",
      "CNN : 11,\t Train Epoch: 18 \tLoss: 0.000393,\t runtime: 10.96\n",
      "CNN : 11,\t Train Epoch: 19 \tLoss: 0.000862,\t runtime: 10.87\n",
      "CNN : 11,\t Train Epoch: 20 \tLoss: 0.000810,\t runtime: 11.38\n",
      "CNN : 11,\t Train Epoch: 21 \tLoss: 0.000880,\t runtime: 12.21\n",
      "CNN : 11,\t Train Epoch: 22 \tLoss: 0.001258,\t runtime: 11.26\n",
      "CNN : 11,\t Train Epoch: 23 \tLoss: 0.000236,\t runtime: 11.38\n",
      "CNN : 11,\t Train Epoch: 24 \tLoss: 0.001881,\t runtime: 10.92\n",
      "CNN : 11,\t Train Epoch: 25 \tLoss: 0.000744,\t runtime: 11.09\n",
      "\n",
      "Test set: Avg. loss: 0.0216, Accuracy: 418/420 (99.52381%)\n",
      "\n",
      "CNN : 12,\t Train Epoch: 1 \tLoss: 0.125559,\t runtime: 12.42\n",
      "CNN : 12,\t Train Epoch: 2 \tLoss: 0.022726,\t runtime: 11.17\n",
      "CNN : 12,\t Train Epoch: 3 \tLoss: 0.036028,\t runtime: 10.80\n",
      "CNN : 12,\t Train Epoch: 4 \tLoss: 0.069199,\t runtime: 11.41\n",
      "CNN : 12,\t Train Epoch: 5 \tLoss: 0.040735,\t runtime: 10.93\n",
      "CNN : 12,\t Train Epoch: 6 \tLoss: 0.015036,\t runtime: 11.43\n",
      "CNN : 12,\t Train Epoch: 7 \tLoss: 0.019817,\t runtime: 11.86\n",
      "CNN : 12,\t Train Epoch: 8 \tLoss: 0.001048,\t runtime: 10.80\n",
      "CNN : 12,\t Train Epoch: 9 \tLoss: 0.004019,\t runtime: 10.84\n",
      "CNN : 12,\t Train Epoch: 10 \tLoss: 0.002959,\t runtime: 11.29\n",
      "CNN : 12,\t Train Epoch: 11 \tLoss: 0.000322,\t runtime: 10.90\n",
      "CNN : 12,\t Train Epoch: 12 \tLoss: 0.000651,\t runtime: 12.52\n",
      "CNN : 12,\t Train Epoch: 13 \tLoss: 0.000366,\t runtime: 11.34\n",
      "CNN : 12,\t Train Epoch: 14 \tLoss: 0.002082,\t runtime: 10.78\n",
      "CNN : 12,\t Train Epoch: 15 \tLoss: 0.004282,\t runtime: 10.88\n",
      "CNN : 12,\t Train Epoch: 16 \tLoss: 0.002432,\t runtime: 11.27\n",
      "CNN : 12,\t Train Epoch: 17 \tLoss: 0.004770,\t runtime: 12.00\n",
      "CNN : 12,\t Train Epoch: 18 \tLoss: 0.001718,\t runtime: 10.97\n",
      "CNN : 12,\t Train Epoch: 19 \tLoss: 0.000429,\t runtime: 11.31\n",
      "CNN : 12,\t Train Epoch: 20 \tLoss: 0.001428,\t runtime: 10.88\n",
      "CNN : 12,\t Train Epoch: 21 \tLoss: 0.000923,\t runtime: 10.80\n",
      "CNN : 12,\t Train Epoch: 22 \tLoss: 0.002509,\t runtime: 12.17\n",
      "CNN : 12,\t Train Epoch: 23 \tLoss: 0.009674,\t runtime: 11.44\n",
      "CNN : 12,\t Train Epoch: 24 \tLoss: 0.001273,\t runtime: 11.30\n",
      "CNN : 12,\t Train Epoch: 25 \tLoss: 0.008473,\t runtime: 10.93\n",
      "\n",
      "Test set: Avg. loss: 0.0300, Accuracy: 418/420 (99.52381%)\n",
      "\n"
     ]
    }
   ],
   "source": [
    "validation_tensor = kaggle_validation_set.to(device)\n",
    "prediction_tensor = prediction_tensor.to(device)\n",
    "\n",
    "\n",
    "for id_net in range(1, Num_CNN+1):\n",
    "    \n",
    "    network, optimizer, scheduler = initialise_network(device)\n",
    "    \n",
    "    for epoch in range(1, n_epochs+1):\n",
    "        train(epoch, network, scheduler, id_net, device)\n",
    "    test(network)\n",
    "    \n",
    "    prediction_tensor = validation(network, validation_tensor, prediction_tensor)\n",
    "    network_list.append(copy.deepcopy(network))"
   ]
  },
  {
   "cell_type": "markdown",
   "metadata": {
    "papermill": {
     "duration": 0.142603,
     "end_time": "2020-12-29T13:32:10.210051",
     "exception": false,
     "start_time": "2020-12-29T13:32:10.067448",
     "status": "completed"
    },
    "tags": []
   },
   "source": [
    "# Output predictions"
   ]
  },
  {
   "cell_type": "code",
   "execution_count": 15,
   "metadata": {
    "execution": {
     "iopub.execute_input": "2020-12-29T13:32:10.502265Z",
     "iopub.status.busy": "2020-12-29T13:32:10.501503Z",
     "iopub.status.idle": "2020-12-29T13:32:10.508226Z",
     "shell.execute_reply": "2020-12-29T13:32:10.507411Z"
    },
    "papermill": {
     "duration": 0.155219,
     "end_time": "2020-12-29T13:32:10.508353",
     "exception": false,
     "start_time": "2020-12-29T13:32:10.353134",
     "status": "completed"
    },
    "tags": []
   },
   "outputs": [],
   "source": [
    "# calculating the labels and moving prediciton to cpu\n",
    "output_df = prediction_tensor.max(1)[1].to(\"cpu\")\n",
    "\n",
    "output_df = pd.DataFrame(output_df.numpy(), columns = [\"Label\"])\n",
    "\n",
    "output_df.index.name = \"ImageId\"\n",
    "output_df.index = output_df.index + 1"
   ]
  },
  {
   "cell_type": "code",
   "execution_count": 16,
   "metadata": {
    "execution": {
     "iopub.execute_input": "2020-12-29T13:32:10.810388Z",
     "iopub.status.busy": "2020-12-29T13:32:10.809049Z",
     "iopub.status.idle": "2020-12-29T13:32:11.075956Z",
     "shell.execute_reply": "2020-12-29T13:32:11.076608Z"
    },
    "papermill": {
     "duration": 0.425196,
     "end_time": "2020-12-29T13:32:11.076767",
     "exception": false,
     "start_time": "2020-12-29T13:32:10.651571",
     "status": "completed"
    },
    "tags": []
   },
   "outputs": [
    {
     "data": {
      "image/png": "[encoded data removed]",
      "text/plain": [
       "<Figure size 432x288 with 6 Axes>"
      ]
     },
     "metadata": {},
     "output_type": "display_data"
    }
   ],
   "source": [
    "start_pos = 34\n",
    "\n",
    "fig = plt.figure()\n",
    "for i in range(6):\n",
    "    ax = fig.add_subplot(2,3, i+1)\n",
    "    ax.imshow(kaggle_validation_set[start_pos+i][0], cmap = \"gray\", interpolation = \"none\")\n",
    "    ax.set_title(f\"Prediction : {output_df.iloc[start_pos+i][0]}\")\n",
    "    ax.set_xticks([])\n",
    "    ax.set_yticks([])"
   ]
  },
  {
   "cell_type": "markdown",
   "metadata": {
    "papermill": {
     "duration": 0.143635,
     "end_time": "2020-12-29T13:32:11.364856",
     "exception": false,
     "start_time": "2020-12-29T13:32:11.221221",
     "status": "completed"
    },
    "tags": []
   },
   "source": [
    "# Saving the predictions"
   ]
  },
  {
   "cell_type": "code",
   "execution_count": 17,
   "metadata": {
    "execution": {
     "iopub.execute_input": "2020-12-29T13:32:11.664596Z",
     "iopub.status.busy": "2020-12-29T13:32:11.663736Z",
     "iopub.status.idle": "2020-12-29T13:32:11.675534Z",
     "shell.execute_reply": "2020-12-29T13:32:11.674949Z"
    },
    "papermill": {
     "duration": 0.167654,
     "end_time": "2020-12-29T13:32:11.675654",
     "exception": false,
     "start_time": "2020-12-29T13:32:11.508000",
     "status": "completed"
    },
    "tags": []
   },
   "outputs": [
    {
     "data": {
      "text/html": [
       "<div>\n",
       "<style scoped>\n",
       "    .dataframe tbody tr th:only-of-type {\n",
       "        vertical-align: middle;\n",
       "    }\n",
       "\n",
       "    .dataframe tbody tr th {\n",
       "        vertical-align: top;\n",
       "    }\n",
       "\n",
       "    .dataframe thead th {\n",
       "        text-align: right;\n",
       "    }\n",
       "</style>\n",
       "<table border=\"1\" class=\"dataframe\">\n",
       "  <thead>\n",
       "    <tr style=\"text-align: right;\">\n",
       "      <th></th>\n",
       "      <th>Label</th>\n",
       "    </tr>\n",
       "    <tr>\n",
       "      <th>ImageId</th>\n",
       "      <th></th>\n",
       "    </tr>\n",
       "  </thead>\n",
       "  <tbody>\n",
       "    <tr>\n",
       "      <th>1</th>\n",
       "      <td>2</td>\n",
       "    </tr>\n",
       "    <tr>\n",
       "      <th>2</th>\n",
       "      <td>0</td>\n",
       "    </tr>\n",
       "    <tr>\n",
       "      <th>3</th>\n",
       "      <td>9</td>\n",
       "    </tr>\n",
       "    <tr>\n",
       "      <th>4</th>\n",
       "      <td>9</td>\n",
       "    </tr>\n",
       "    <tr>\n",
       "      <th>5</th>\n",
       "      <td>3</td>\n",
       "    </tr>\n",
       "    <tr>\n",
       "      <th>...</th>\n",
       "      <td>...</td>\n",
       "    </tr>\n",
       "    <tr>\n",
       "      <th>27996</th>\n",
       "      <td>9</td>\n",
       "    </tr>\n",
       "    <tr>\n",
       "      <th>27997</th>\n",
       "      <td>7</td>\n",
       "    </tr>\n",
       "    <tr>\n",
       "      <th>27998</th>\n",
       "      <td>3</td>\n",
       "    </tr>\n",
       "    <tr>\n",
       "      <th>27999</th>\n",
       "      <td>9</td>\n",
       "    </tr>\n",
       "    <tr>\n",
       "      <th>28000</th>\n",
       "      <td>2</td>\n",
       "    </tr>\n",
       "  </tbody>\n",
       "</table>\n",
       "<p>28000 rows × 1 columns</p>\n",
       "</div>"
      ],
      "text/plain": [
       "         Label\n",
       "ImageId       \n",
       "1            2\n",
       "2            0\n",
       "3            9\n",
       "4            9\n",
       "5            3\n",
       "...        ...\n",
       "27996        9\n",
       "27997        7\n",
       "27998        3\n",
       "27999        9\n",
       "28000        2\n",
       "\n",
       "[28000 rows x 1 columns]"
      ]
     },
     "execution_count": 17,
     "metadata": {},
     "output_type": "execute_result"
    }
   ],
   "source": [
    "output_df"
   ]
  },
  {
   "cell_type": "code",
   "execution_count": 18,
   "metadata": {
    "execution": {
     "iopub.execute_input": "2020-12-29T13:32:11.969892Z",
     "iopub.status.busy": "2020-12-29T13:32:11.968841Z",
     "iopub.status.idle": "2020-12-29T13:32:12.452392Z",
     "shell.execute_reply": "2020-12-29T13:32:12.451123Z"
    },
    "papermill": {
     "duration": 0.632807,
     "end_time": "2020-12-29T13:32:12.452558",
     "exception": false,
     "start_time": "2020-12-29T13:32:11.819751",
     "status": "completed"
    },
    "tags": []
   },
   "outputs": [],
   "source": [
    "output_df.to_csv(prediction_path)"
   ]
  },
  {
   "cell_type": "markdown",
   "metadata": {},
   "source": [
    "# Score of 0.99350 on kaggle. Data augmentation can help increase the score to 0.997+ for CNN methods. Can be tried later. "
   ]
  }
 ],
 "metadata": {
  "kernelspec": {
   "display_name": "Python 3",
   "language": "python",
   "name": "python3"
  },
  "language_info": {
   "codemirror_mode": {
    "name": "ipython",
    "version": 3
   },
   "file_extension": ".py",
   "mimetype": "text/x-python",
   "name": "python",
   "nbconvert_exporter": "python",
   "pygments_lexer": "ipython3",
   "version": "3.7.9"
  },
  "papermill": {
   "duration": 3437.145747,
   "end_time": "2020-12-29T13:32:13.640797",
   "environment_variables": {},
   "exception": null,
   "input_path": "__notebook__.ipynb",
   "output_path": "__notebook__.ipynb",
   "parameters": {},
   "start_time": "2020-12-29T12:34:56.495050",
   "version": "2.1.0"
  }
 },
 "nbformat": 4,
 "nbformat_minor": 4
}
